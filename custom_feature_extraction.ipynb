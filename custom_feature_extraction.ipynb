{
 "cells": [
  {
   "cell_type": "code",
   "execution_count": 2,
   "metadata": {},
   "outputs": [],
   "source": [
    "import pandas as pd\n",
    "import numpy as np\n",
    "import json\n",
    "import datetime\n",
    "from dateutil.parser import parse"
   ]
  },
  {
   "cell_type": "code",
   "execution_count": 11,
   "metadata": {},
   "outputs": [],
   "source": [
    "with open(\"./train.json\", 'r') as j:\n",
    "     train = json.loads(j.read())"
   ]
  },
  {
   "cell_type": "code",
   "execution_count": 12,
   "metadata": {},
   "outputs": [
    {
     "ename": "KeyError",
     "evalue": "'retweet_count'",
     "output_type": "error",
     "traceback": [
      "\u001b[1;31m---------------------------------------------------------------------------\u001b[0m",
      "\u001b[1;31mKeyError\u001b[0m                                  Traceback (most recent call last)",
      "\u001b[1;32m<ipython-input-12-fb101af1bae6>\u001b[0m in \u001b[0;36m<module>\u001b[1;34m\u001b[0m\n\u001b[0;32m     24\u001b[0m     \u001b[0mrow\u001b[0m\u001b[1;33m.\u001b[0m\u001b[0mappend\u001b[0m\u001b[1;33m(\u001b[0m\u001b[0mlen\u001b[0m\u001b[1;33m(\u001b[0m\u001b[0mtwt\u001b[0m\u001b[1;33m[\u001b[0m\u001b[1;34m\"entities\"\u001b[0m\u001b[1;33m]\u001b[0m\u001b[1;33m[\u001b[0m\u001b[1;34m\"urls\"\u001b[0m\u001b[1;33m]\u001b[0m\u001b[1;33m)\u001b[0m\u001b[1;33m)\u001b[0m\u001b[1;33m\u001b[0m\u001b[0m\n\u001b[0;32m     25\u001b[0m     \u001b[0mrow\u001b[0m\u001b[1;33m.\u001b[0m\u001b[0mappend\u001b[0m\u001b[1;33m(\u001b[0m\u001b[0mlen\u001b[0m\u001b[1;33m(\u001b[0m\u001b[0mtwt\u001b[0m\u001b[1;33m[\u001b[0m\u001b[1;34m\"text\"\u001b[0m\u001b[1;33m]\u001b[0m\u001b[1;33m)\u001b[0m\u001b[1;33m)\u001b[0m\u001b[1;33m\u001b[0m\u001b[0m\n\u001b[1;32m---> 26\u001b[1;33m     \u001b[0mrow\u001b[0m\u001b[1;33m.\u001b[0m\u001b[0mappend\u001b[0m\u001b[1;33m(\u001b[0m\u001b[0mtwt\u001b[0m\u001b[1;33m[\u001b[0m\u001b[1;34m\"retweet_count\"\u001b[0m\u001b[1;33m]\u001b[0m\u001b[1;33m)\u001b[0m\u001b[1;33m\u001b[0m\u001b[0m\n\u001b[0m\u001b[0;32m     27\u001b[0m     \u001b[0mrow\u001b[0m\u001b[1;33m.\u001b[0m\u001b[0mappend\u001b[0m\u001b[1;33m(\u001b[0m\u001b[0mtwt\u001b[0m\u001b[1;33m[\u001b[0m\u001b[1;34m\"favorite_count\"\u001b[0m\u001b[1;33m]\u001b[0m\u001b[1;33m)\u001b[0m\u001b[1;33m\u001b[0m\u001b[0m\n\u001b[0;32m     28\u001b[0m \u001b[1;33m\u001b[0m\u001b[0m\n",
      "\u001b[1;31mKeyError\u001b[0m: 'retweet_count'"
     ]
    }
   ],
   "source": [
    "custom_columns=[\"tweet_id\",\"timestamp\",\"year\",\"month\",\"week_day\",\"hour\",\"is_reply_to_tweet\",\"is_reply_to_user\",\n",
    "            \"user_id\",\"@_count\",\"#_count\",\"url_count\",\"tweet_len\", \"rewteet_count\", \"favorite_count\"]\n",
    "aggregate_columns=[\"tweet_id\",\"user_total_retweeted_so_far\",\"user_total_favorited_so_far\",\n",
    "                   \"user_total_retweeted\", \"user_total_favorited\"]\n",
    "#tweet id to count\n",
    "features=[]\n",
    "for i,twt in enumerate(train):\n",
    "    row=[twt[\"id_str\"]]\n",
    "    time=parse(twt['created_at'])\n",
    "    row.extend([int(time.timestamp()), time.year, time.month, time.weekday(), time.hour])\n",
    "    if twt[\"in_reply_to_status_id_str\"]==None:\n",
    "        row.append(0)\n",
    "    else:\n",
    "        row.append(1)\n",
    "\n",
    "    if twt[\"in_reply_to_user_id_str\"]==None:\n",
    "        row.append(0)\n",
    "    else:\n",
    "        row.append(1)\n",
    "\n",
    "    row.append(twt[\"user\"][\"id_str\"])\n",
    "    row.append(len(twt[\"entities\"][\"user_mentions\"]))\n",
    "    row.append(len(twt[\"entities\"][\"hashtags\"]))\n",
    "    row.append(len(twt[\"entities\"][\"urls\"]))\n",
    "    row.append(len(twt[\"text\"]))\n",
    "    row.append(twt[\"retweet_count\"])\n",
    "    row.append(twt[\"favorite_count\"])\n",
    "\n",
    "    features.append(row)"
   ]
  },
  {
   "cell_type": "code",
   "execution_count": 7,
   "metadata": {},
   "outputs": [],
   "source": [
    "feature_df=pd.DataFrame(data=features, columns=custom_columns)\n",
    "feature_df.sort_values(by=['timestamp'], inplace=True)"
   ]
  },
  {
   "cell_type": "code",
   "execution_count": 8,
   "metadata": {},
   "outputs": [],
   "source": [
    "aggregate_features=[]\n",
    "for user_id, group in feature_df.groupby('user_id'):\n",
    "    #try:\n",
    "    #    print(user_id,reply_to_user_dict[user_id])\n",
    "    #except:\n",
    "    #    print(user_id, 0)\n",
    "    group_row=[]\n",
    "    total_retweet=0\n",
    "    total_favorite=0\n",
    "    for twt in group.iterrows():\n",
    "        row=[twt[1][\"tweet_id\"]]\n",
    "        total_retweet+=twt[1][\"rewteet_count\"]\n",
    "        total_favorite+=twt[1][\"favorite_count\"]\n",
    "        row.extend([total_retweet, total_favorite])\n",
    "        group_row.append(row)\n",
    "    for i in range(len(group_row)):\n",
    "        group_row[i].extend([total_retweet, total_favorite])\n",
    "    aggregate_features.extend(group_row)"
   ]
  },
  {
   "cell_type": "code",
   "execution_count": 9,
   "metadata": {},
   "outputs": [],
   "source": [
    "agg_df=pd.DataFrame(data=aggregate_features, columns=aggregate_columns)\n",
    "custom_features_df=pd.merge(feature_df, agg_df, on=\"tweet_id\")"
   ]
  },
  {
   "cell_type": "code",
   "execution_count": 10,
   "metadata": {},
   "outputs": [],
   "source": [
    "custom_features_df.to_csv(\"./train_custom_features.csv\",index=False)"
   ]
  },
  {
   "cell_type": "code",
   "execution_count": 13,
   "metadata": {},
   "outputs": [],
   "source": [
    "with open(\"./test_questions.json\", 'r') as j:\n",
    "     test = json.loads(j.read())"
   ]
  },
  {
   "cell_type": "code",
   "execution_count": 16,
   "metadata": {},
   "outputs": [],
   "source": [
    "custom_columns=[\"tweet_id\",\"timestamp\",\"year\",\"month\",\"week_day\",\"hour\",\"is_reply_to_tweet\",\"is_reply_to_user\",\n",
    "            \"user_id\",\"@_count\",\"#_count\",\"url_count\",\"tweet_len\"]\n",
    "#tweet id to count\n",
    "features=[]\n",
    "for i,twt in enumerate(train):\n",
    "    row=[twt[\"id_str\"]]\n",
    "    time=parse(twt['created_at'])\n",
    "    row.extend([int(time.timestamp()), time.year, time.month, time.weekday(), time.hour])\n",
    "    if twt[\"in_reply_to_status_id_str\"]==None:\n",
    "        row.append(0)\n",
    "    else:\n",
    "        row.append(1)\n",
    "\n",
    "    if twt[\"in_reply_to_user_id_str\"]==None:\n",
    "        row.append(0)\n",
    "    else:\n",
    "        row.append(1)\n",
    "\n",
    "    row.append(twt[\"user\"][\"id_str\"])\n",
    "    row.append(len(twt[\"entities\"][\"user_mentions\"]))\n",
    "    row.append(len(twt[\"entities\"][\"hashtags\"]))\n",
    "    row.append(len(twt[\"entities\"][\"urls\"]))\n",
    "    row.append(len(twt[\"text\"]))\n",
    "\n",
    "    features.append(row)"
   ]
  },
  {
   "cell_type": "code",
   "execution_count": 17,
   "metadata": {},
   "outputs": [],
   "source": [
    "feature_df=pd.DataFrame(data=features, columns=custom_columns)\n",
    "feature_df.sort_values(by=['timestamp'], inplace=True)"
   ]
  },
  {
   "cell_type": "code",
   "execution_count": null,
   "metadata": {},
   "outputs": [],
   "source": []
  }
 ],
 "metadata": {
  "kernelspec": {
   "display_name": "Python 3",
   "language": "python",
   "name": "python3"
  },
  "language_info": {
   "codemirror_mode": {
    "name": "ipython",
    "version": 3
   },
   "file_extension": ".py",
   "mimetype": "text/x-python",
   "name": "python",
   "nbconvert_exporter": "python",
   "pygments_lexer": "ipython3",
   "version": "3.6.6"
  }
 },
 "nbformat": 4,
 "nbformat_minor": 4
}
